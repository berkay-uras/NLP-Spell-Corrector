{
 "cells": [
  {
   "cell_type": "markdown",
   "id": "19aebc9e",
   "metadata": {
    "tags": []
   },
   "source": [
    "# Spell Correction Program\n",
    "This notebook demonstrates a spell correction application using two different approaches: SymSpell and SpellChecker. It includes a graphical user interface (GUI) built with `tkinter`."
   ]
  },
  {
   "cell_type": "markdown",
   "id": "0f66d5a5",
   "metadata": {},
   "source": [
    "## Imports\n",
    "We start by importing the necessary libraries."
   ]
  },
  {
   "cell_type": "code",
   "execution_count": 1,
   "id": "7a36447c",
   "metadata": {
    "scrolled": true
   },
   "outputs": [],
   "source": [
    "from tkinter import Tk, Label, Entry, Button, Text, Scrollbar, END\n",
    "from symspellpy import SymSpell, Verbosity\n",
    "from spellchecker import SpellChecker"
   ]
  },
  {
   "cell_type": "markdown",
   "id": "40adc41e",
   "metadata": {},
   "source": [
    "## SymSpell Spell Correction\n",
    "This function uses the SymSpell library to correct spellings."
   ]
  },
  {
   "cell_type": "code",
   "execution_count": 2,
   "id": "27a22490",
   "metadata": {},
   "outputs": [],
   "source": [
    "def correct_spellings_symspell():\n",
    "    text = text_entry.get()\n",
    "    \n",
    "    # Initialize SymSpell\n",
    "    max_edit_distance_dictionary = 2\n",
    "    prefix_length = 7\n",
    "    sym_spell = SymSpell(max_edit_distance_dictionary, prefix_length)\n",
    "    \n",
    "    # Load dictionary\n",
    "    dictionary_path = \"frequency_dictionary_en_82_765.txt\"\n",
    "    term_index = 0\n",
    "    count_index = 1\n",
    "    if not sym_spell.load_dictionary(dictionary_path, term_index, count_index):\n",
    "        result_label.config(text=\"Dictionary file not found\")\n",
    "        return\n",
    "    \n",
    "    # Lookup suggestions\n",
    "    max_edit_distance_lookup = 2\n",
    "    suggestions = sym_spell.lookup_compound(text, max_edit_distance_lookup)\n",
    "    corrected_text = \" \".join(suggestion.term for suggestion in suggestions)\n",
    "    result_label.config(text=corrected_text)\n",
    "    \n",
    "    # Update history\n",
    "    if text.lower() == 'clear':\n",
    "        history_text.config(state='normal')\n",
    "        history_text.delete('1.0', END)\n",
    "        history_text.config(state='disabled')\n",
    "    else:\n",
    "        history_text.config(state='normal')\n",
    "        history_text.insert(END, f\"Original: {text}\\nCorrected (SymSpell): {corrected_text}\\n\\n\")\n",
    "        history_text.config(state='disabled')"
   ]
  },
  {
   "cell_type": "markdown",
   "id": "39a6fa7b",
   "metadata": {},
   "source": [
    "## SpellChecker Spell Correction\n",
    "This function uses the SpellChecker library to correct spellings."
   ]
  },
  {
   "cell_type": "code",
   "execution_count": 3,
   "id": "74e8e18b",
   "metadata": {},
   "outputs": [],
   "source": [
    "def correct_spellings_spellchecker():\n",
    "    text = text_entry.get()\n",
    "    spell = SpellChecker()\n",
    "    words = text.split()\n",
    "    corrected_words = [spell.correction(word) for word in words]\n",
    "    corrected_text = \" \".join(corrected_words)\n",
    "    result_label.config(text=f\"Corrected Text: {corrected_text}\")\n",
    "\n",
    "    # Update history\n",
    "    if text.lower() == 'clear':\n",
    "        history_text.config(state='normal')\n",
    "        history_text.delete('1.0', END)\n",
    "        history_text.config(state='disabled')\n",
    "    else:\n",
    "        history_text.config(state='normal')\n",
    "        history_text.insert(END, f\"Original: {text}\\nCorrected (SpellChecker): {corrected_text}\\n\\n\")\n",
    "        history_text.config(state='disabled')"
   ]
  },
  {
   "cell_type": "markdown",
   "id": "c44ad8ea",
   "metadata": {},
   "source": [
    "## Clear History\n",
    "This function clears the history text box."
   ]
  },
  {
   "cell_type": "code",
   "execution_count": 4,
   "id": "672a4e4b",
   "metadata": {},
   "outputs": [],
   "source": [
    "def clear_history():\n",
    "    history_text.config(state='normal')\n",
    "    history_text.delete('1.0', END)\n",
    "    history_text.config(state='disabled')"
   ]
  },
  {
   "cell_type": "markdown",
   "id": "0149b7e9",
   "metadata": {},
   "source": [
    "## Exit Program\n",
    "This function exits the application."
   ]
  },
  {
   "cell_type": "code",
   "execution_count": 5,
   "id": "fe13e168",
   "metadata": {},
   "outputs": [],
   "source": [
    "def exit_program():\n",
    "    root.destroy()"
   ]
  },
  {
   "cell_type": "markdown",
   "id": "075ba955",
   "metadata": {},
   "source": [
    "## GUI Setup\n",
    "This function sets up the graphical user interface (GUI) for the spell correction program."
   ]
  },
  {
   "cell_type": "code",
   "execution_count": 6,
   "id": "c21d0565",
   "metadata": {},
   "outputs": [],
   "source": [
    "def setup_gui():\n",
    "    global text_entry, result_label, history_text, root\n",
    "    \n",
    "    root = Tk()\n",
    "    root.title(\"Spell Correction Program\")\n",
    "    \n",
    "    text_label = Label(root, text=\"Enter text:\")\n",
    "    text_label.pack(pady=5)\n",
    "    \n",
    "    text_entry = Entry(root, width=30)\n",
    "    text_entry.pack(pady=5)\n",
    "    \n",
    "    correct_button_symspell = Button(root, text=\"Correct Spelling (SymSpell)\", command=correct_spellings_symspell)\n",
    "    correct_button_symspell.pack(pady=5)\n",
    "    \n",
    "    correct_button_spellchecker = Button(root, text=\"Correct Spelling (SpellChecker)\", command=correct_spellings_spellchecker)\n",
    "    correct_button_spellchecker.pack(pady=5)\n",
    "    \n",
    "    result_label = Label(root, text=\"\")\n",
    "    result_label.pack(pady=5)\n",
    "    \n",
    "    history_label = Label(root, text=\"History:\")\n",
    "    history_label.pack(pady=5)\n",
    "    \n",
    "    history_text = Text(root, height=10, width=40)\n",
    "    history_text.pack(pady=5)\n",
    "    \n",
    "    scrollbar = Scrollbar(root)\n",
    "    scrollbar.pack(side='right', fill='y')\n",
    "    history_text.config(yscrollcommand=scrollbar.set)\n",
    "    scrollbar.config(command=history_text.yview)\n",
    "    \n",
    "    clear_button = Button(root, text=\"Clear History\", command=clear_history)\n",
    "    clear_button.pack(pady=5)\n",
    "    \n",
    "    exit_button = Button(root, text=\"Exit\", command=exit_program)\n",
    "    exit_button.pack(pady=5)\n",
    "    \n",
    "    root.mainloop()"
   ]
  },
  {
   "cell_type": "markdown",
   "id": "b9228560",
   "metadata": {},
   "source": [
    "## Main Execution\n",
    "This code sets up and runs the GUI."
   ]
  },
  {
   "cell_type": "code",
   "execution_count": 7,
   "id": "4bdc34ff",
   "metadata": {},
   "outputs": [],
   "source": [
    "if __name__ == \"__main__\":\n",
    "    setup_gui()"
   ]
  },
  {
   "cell_type": "code",
   "execution_count": null,
   "id": "374232a1-b34a-42d6-bcb6-cb70acfb39d0",
   "metadata": {},
   "outputs": [],
   "source": []
  },
  {
   "cell_type": "markdown",
   "id": "db8bce31-4ca8-4d0f-b524-7a6161c943c5",
   "metadata": {},
   "source": [
    "# Creating a dictionary from text and spell corrector"
   ]
  },
  {
   "cell_type": "code",
   "execution_count": null,
   "id": "48604b49-b4d4-4c51-a29a-1d63fe3b18b3",
   "metadata": {},
   "outputs": [],
   "source": []
  },
  {
   "cell_type": "code",
   "execution_count": 30,
   "id": "4ebd24f0-462f-4070-95eb-0a51f6a78016",
   "metadata": {},
   "outputs": [],
   "source": [
    "# Import the libraries for processing data and other utilities\n",
    "\n",
    "import os, sys, gc, warnings\n",
    "import logging, math, re, heapq\n",
    "import pandas as pd\n",
    "import numpy as np\n",
    "import seaborn as sns\n",
    "import matplotlib.pyplot as plt\n",
    "from IPython.display import display, HTML\n",
    "from IPython.core.interactiveshell import InteractiveShell\n",
    "from collections import Counter    \n",
    "from nltk.tokenize import word_tokenize\n",
    "\n",
    "# These settings help in proper formatting and display of the output of code we run\n",
    "warnings.filterwarnings(\"ignore\")\n",
    "#InteractiveShell.ast_node_interactivity = \"all\"\n",
    "# display(HTML(data=\"\"\"<style> div#notebook-container{width:95%;}</style>\"\"\"))\n",
    "\n",
    "# This is to download stop words for cleaning the tweets\n",
    "import nltk\n",
    "#nltk.download('stopwords')\n",
    "#nltk.download('punkt')"
   ]
  },
  {
   "cell_type": "code",
   "execution_count": 14,
   "id": "5f53d448-11f6-47f7-abb4-5ec0fd1df709",
   "metadata": {},
   "outputs": [],
   "source": [
    "# Load the dataset (Shakespeare's works)\n",
    "input_file_location = 't8.shakespeare.txt'\n"
   ]
  },
  {
   "cell_type": "code",
   "execution_count": 15,
   "id": "801a215d-ea73-4e98-84ef-b99906c210d4",
   "metadata": {},
   "outputs": [],
   "source": [
    "\n",
    "# Read and preprocess the data\n",
    "with open(input_file_location, 'r') as file:\n",
    "    text = file.read().lower()\n",
    "    word_list = re.findall(r'\\w+', text)"
   ]
  },
  {
   "cell_type": "code",
   "execution_count": 16,
   "id": "439a2ad2-cd5c-4a41-b61c-fd691f9afab1",
   "metadata": {},
   "outputs": [],
   "source": [
    "\n",
    "\n",
    "# Create a vocabulary set and word frequency dictionary\n",
    "vocab = set(word_list)\n",
    "word_count_dict = Counter(word_list)\n",
    "total_words = sum(word_count_dict.values())\n",
    "\n",
    "# Calculate word probabilities\n",
    "probs = {word: word_count / total_words for word, word_count in word_count_dict.items()}\n"
   ]
  },
  {
   "cell_type": "code",
   "execution_count": 17,
   "id": "a7341b43-4346-4ce6-b12e-971f8fd9890e",
   "metadata": {},
   "outputs": [],
   "source": [
    "def delete_letter(word):\n",
    "    return [word[:i] + word[i+1:] for i in range(len(word))]\n",
    "\n",
    "def switch_letter(word):\n",
    "    return [word[:i] + word[i+1] + word[i] + word[i+2:] for i in range(len(word) - 1)]\n",
    "\n",
    "def replace_letter(word):\n",
    "    letters = 'abcdefghijklmnopqrstuvwxyz'\n",
    "    return [word[:i] + l + word[i+1:] for i in range(len(word)) for l in letters]\n",
    "\n",
    "def insert_letter(word):\n",
    "    letters = 'abcdefghijklmnopqrstuvwxyz'\n",
    "    return [word[:i] + l + word[i:] for i in range(len(word) + 1) for l in letters]\n",
    "\n",
    "def edit_one_letter(word, allow_switches=True):\n",
    "    edits = set(delete_letter(word) + insert_letter(word) + replace_letter(word))\n",
    "    if allow_switches:\n",
    "        edits.update(switch_letter(word))\n",
    "    return edits\n",
    "\n",
    "def edit_two_letters(word, allow_switches=True):\n",
    "    return set(e2 for e1 in edit_one_letter(word, allow_switches) for e2 in edit_one_letter(e1, allow_switches))\n"
   ]
  },
  {
   "cell_type": "code",
   "execution_count": 18,
   "id": "56719a7b-478c-4286-9299-c2fce1bc9d04",
   "metadata": {},
   "outputs": [],
   "source": [
    "def get_spelling_suggestions(word, probs, vocab, n=2):\n",
    "    suggestions = list((word in vocab and [word]) or \n",
    "                       edit_one_letter(word).intersection(vocab) or \n",
    "                       edit_two_letters(word).intersection(vocab))\n",
    "    return sorted([(s, probs.get(s, 0)) for s in suggestions], key=lambda x: x[1], reverse=True)[:n]\n"
   ]
  },
  {
   "cell_type": "code",
   "execution_count": 19,
   "id": "61d043cb-6cca-4aee-b97d-a32a9b6d7ab2",
   "metadata": {},
   "outputs": [
    {
     "name": "stdout",
     "output_type": "stream",
     "text": [
      "\n",
      "Word: dys\n",
      "Suggested: days, Probability: 0.000225\n",
      "Suggested: dye, Probability: 0.000005\n",
      "Suggested: dis, Probability: 0.000005\n",
      "\n",
      "Word: furthar\n",
      "Suggested: further, Probability: 0.000204\n",
      "\n",
      "Word: mercuryn\n",
      "Suggested: mercury, Probability: 0.000016\n",
      "\n",
      "Word: disdaain\n",
      "Suggested: disdain, Probability: 0.000042\n",
      "\n",
      "Word: tumtultous\n",
      "Suggested: tumultuous, Probability: 0.000004\n"
     ]
    }
   ],
   "source": [
    "# Example words to correct\n",
    "my_words = ['dys','furthar','mercuryn','disdaain','tumtultous']\n",
    "\n",
    "# Get corrections\n",
    "for word in my_words:\n",
    "    suggestions = get_spelling_suggestions(word, probs, vocab, 3)\n",
    "    print(f\"\\nWord: {word}\")\n",
    "    for suggestion, prob in suggestions:\n",
    "        print(f\"Suggested: {suggestion}, Probability: {prob:.6f}\")\n"
   ]
  },
  {
   "cell_type": "code",
   "execution_count": 20,
   "id": "1f58ec11-99a4-4391-b31b-be209e5d86a1",
   "metadata": {},
   "outputs": [],
   "source": [
    "def correct_sentence(sentence, probs, vocab):\n",
    "    words = word_tokenize(sentence.lower())\n",
    "    corrected_sentence = []\n",
    "    for word in words:\n",
    "        if word in vocab:\n",
    "            corrected_sentence.append(word)\n",
    "        else:\n",
    "            suggestions = get_spelling_suggestions(word, probs, vocab, 1)\n",
    "            if suggestions:\n",
    "                corrected_sentence.append(suggestions[0][0])\n",
    "            else:\n",
    "                corrected_sentence.append(word)\n",
    "    return ' '.join(corrected_sentence)\n",
    "\n",
    "\n"
   ]
  },
  {
   "cell_type": "code",
   "execution_count": 21,
   "id": "c13f819f-19c4-4175-8f23-a30c7b0fd7e9",
   "metadata": {},
   "outputs": [
    {
     "name": "stdout",
     "output_type": "stream",
     "text": [
      "Original sentence: Thiz is an exmple\n",
      "Corrected sentence: this is an example\n"
     ]
    }
   ],
   "source": [
    "# Example usage\n",
    "sentence = \"Thiz is an exmple\"\n",
    "corrected_sentence = correct_sentence(sentence, probs, vocab)\n",
    "print(f\"Original sentence: {sentence}\")\n",
    "print(f\"Corrected sentence: {corrected_sentence}\")"
   ]
  },
  {
   "cell_type": "markdown",
   "id": "11542c20-704b-4ac4-8853-da64bca2d67e",
   "metadata": {},
   "source": [
    "# Contextual corrector with build model"
   ]
  },
  {
   "cell_type": "code",
   "execution_count": null,
   "id": "716883aa-b6ff-4975-b239-2a033da2f864",
   "metadata": {},
   "outputs": [],
   "source": [
    "# Download the spaCy model if not already present\n",
    "#import spacy\n",
    "#try:\n",
    "    #nlp = spacy.load('en_core_web_sm')\n",
    "#except OSError:\n",
    "    #!python -m spacy download en_core_web_sm\n",
    "    #nlp = spacy.load('en_core_web_sm')"
   ]
  },
  {
   "cell_type": "code",
   "execution_count": 29,
   "id": "914239af-544a-4280-8448-12328931ac96",
   "metadata": {},
   "outputs": [
    {
     "name": "stdout",
     "output_type": "stream",
     "text": [
      "1\n",
      "{dys: 'day'}\n",
      "I came home so that as I would rather participate in the function the next day.\n"
     ]
    }
   ],
   "source": [
    "\n",
    "# Download the spaCy model if not already present\n",
    "import spacy\n",
    "nlp = spacy.load('en_core_web_sm')\n",
    "\n",
    "# Add contextual spell checker to the pipeline\n",
    "import contextualSpellCheck\n",
    "contextualSpellCheck.add_to_pipe(nlp)\n",
    "\n",
    "# Create a document using the NLP model\n",
    "doc = nlp('I came home so that as I would rather participate in the function the next dys.')\n",
    "\n",
    "# Print the number of corrections in the input text\n",
    "print(len(doc._.suggestions_spellCheck))\n",
    "\n",
    "# Print all the actual corrections that were made with the associated mapping\n",
    "print(doc._.suggestions_spellCheck)\n",
    "\n",
    "# Display the outcome after spelling correction\n",
    "print(doc._.outcome_spellCheck)\n"
   ]
  },
  {
   "cell_type": "code",
   "execution_count": 26,
   "id": "88637e4b-7a82-45ca-ad38-7d287db1fea9",
   "metadata": {},
   "outputs": [
    {
     "name": "stdout",
     "output_type": "stream",
     "text": [
      "2\n",
      "{hellow: 'Well', ae: 'are'}\n",
      " Well how are you today.\n"
     ]
    }
   ],
   "source": [
    "# Create a document using the NLP model\n",
    "doc = nlp(' helo how ae you today.')\n",
    "\n",
    "# Print the number of corrections in the input text\n",
    "print(len(doc._.suggestions_spellCheck))\n",
    "\n",
    "# Print all the actual corrections that were made with the associated mapping\n",
    "print(doc._.suggestions_spellCheck)\n",
    "\n",
    "# Display the outcome after spelling correction\n",
    "print(doc._.outcome_spellCheck)"
   ]
  },
  {
   "cell_type": "code",
   "execution_count": null,
   "id": "a8cda683-78aa-4bd9-a9ef-44d12b69a89b",
   "metadata": {},
   "outputs": [],
   "source": []
  }
 ],
 "metadata": {
  "kernelspec": {
   "display_name": "Python 3 (ipykernel)",
   "language": "python",
   "name": "python3"
  },
  "language_info": {
   "codemirror_mode": {
    "name": "ipython",
    "version": 3
   },
   "file_extension": ".py",
   "mimetype": "text/x-python",
   "name": "python",
   "nbconvert_exporter": "python",
   "pygments_lexer": "ipython3",
   "version": "3.9.12"
  }
 },
 "nbformat": 4,
 "nbformat_minor": 5
}
